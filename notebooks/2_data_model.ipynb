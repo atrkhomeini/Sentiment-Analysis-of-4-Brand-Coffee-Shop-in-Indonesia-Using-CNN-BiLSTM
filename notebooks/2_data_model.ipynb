{
 "cells": [
  {
   "cell_type": "markdown",
   "metadata": {},
   "source": [
    "Connected to base (Python 3.12.3)"
   ]
  },
  {
   "cell_type": "code",
   "execution_count": 2,
   "id": "5338d25b-2d67-4a57-98f9-51397af9d772",
   "metadata": {},
   "outputs": [],
   "source": [
    "# 0. Import Library\n",
    "# =============================\n",
    "import pandas as pd\n",
    "import numpy as np\n",
    "import nlpaug.augmenter.word as naw\n",
    "from sklearn.model_selection import train_test_split, StratifiedKFold\n",
    "from sklearn.utils import resample\n",
    "from sklearn.preprocessing import LabelEncoder\n",
    "from sklearn.metrics import accuracy_score, precision_score, recall_score, f1_score, log_loss\n",
    "from tensorflow.keras.preprocessing.text import Tokenizer\n",
    "from keras.preprocessing.sequence import pad_sequences\n",
    "from keras.models import Model\n",
    "from keras.layers import Input, Embedding, Conv1D, GlobalAveragePooling1D, Bidirectional, LSTM, Dropout, Dense, concatenate"
   ]
  },
  {
   "cell_type": "code",
   "execution_count": 3,
   "id": "d3d83e60-9f77-4835-b54b-318958408e11",
   "metadata": {},
   "outputs": [
    {
     "name": "stderr",
     "output_type": "stream",
     "text": [
      "c:\\Users\\atrke\\miniconda3\\Lib\\site-packages\\openpyxl\\worksheet\\_read_only.py:85: UserWarning: Data Validation extension is not supported and will be removed\n",
      "  for idx, row in parser.parse():\n"
     ]
    }
   ],
   "source": [
    "df_train = pd.read_excel('../data/output/df_train.xlsx', sheet_name='Sheet1')\n",
    "df_test = pd.read_excel('../data/output/df_test.xlsx', sheet_name='Sheet1')\n",
    "le = LabelEncoder()\n",
    "df_train['Encoded_Label_Valid'] = le.fit_transform(df_train['Validasi Sentimen'])\n",
    "df_test['Encoded_Label'] = le.transform(df_test['Sentimen'])"
   ]
  },
  {
   "cell_type": "code",
   "execution_count": 4,
   "id": "f4bd3042-56f8-49f3-bf56-9f54c0ae6c6d",
   "metadata": {},
   "outputs": [],
   "source": [
    "# 3. Handle Imbalanced Data\n",
    "# =============================\n",
    "df_neg = df_train[df_train['Validasi Sentimen'] == 'negative'].copy()\n",
    "aug = naw.SynonymAug(aug_src='wordnet')\n",
    "df_neg['Augmented_Text'] = df_neg['Text Normalization'].apply(lambda x: aug.augment(x))\n",
    "df_neg_augmented = df_neg.copy()\n",
    "df_neg_augmented['Text Normalization'] = df_neg_augmented['Augmented_Text']\n",
    "df_neg_final = pd.concat([df_neg, df_neg_augmented], ignore_index=True)\n",
    "\n",
    "df_other = df_train[df_train['Validasi Sentimen'] != 'negative']\n",
    "df_aug_combined = pd.concat([df_other, df_neg_final], ignore_index=True)\n",
    "\n",
    "max_count = df_aug_combined['Encoded_Label_Valid'].value_counts().max()\n",
    "df_balanced = pd.concat([\n",
    "    resample(sub_df, replace=True, n_samples=max_count, random_state=42)\n",
    "    for _, sub_df in df_aug_combined.groupby('Encoded_Label_Valid')\n",
    "], ignore_index=True)\n"
   ]
  },
  {
   "cell_type": "code",
   "execution_count": 5,
   "id": "82afdca8-48f3-4afa-9aa4-b039b399ffe8",
   "metadata": {},
   "outputs": [],
   "source": [
    "# 4. Tokenization\n",
    "# =============================\n",
    "MAX_NUM_WORDS = 10000\n",
    "MAX_SEQUENCE_LENGTH = 50\n",
    "tokenizer = Tokenizer(num_words=MAX_NUM_WORDS, oov_token='<OOV>')\n",
    "tokenizer.fit_on_texts(df_balanced['Text Normalization'])\n",
    "\n",
    "X_train = pad_sequences(tokenizer.texts_to_sequences(df_balanced['Text Normalization']),\n",
    "                        maxlen=MAX_SEQUENCE_LENGTH, padding='post')\n",
    "y_train = df_balanced['Encoded_Label'].values\n",
    "\n",
    "X_test = pad_sequences(tokenizer.texts_to_sequences(df_test['Text Normalization']),\n",
    "                       maxlen=MAX_SEQUENCE_LENGTH, padding='post')\n",
    "y_test = df_test['Encoded_Label'].values"
   ]
  },
  {
   "cell_type": "code",
   "execution_count": 6,
   "id": "f2e6fe6c-1a03-4229-9034-c8eca6726fab",
   "metadata": {},
   "outputs": [],
   "source": [
    "# 5. Load GloVe Embedding\n",
    "# =============================\n",
    "embedding_index = {}\n",
    "with open(\"../src/glove/glove.6B.300d.txt\", encoding='utf8') as f:\n",
    "    for line in f:\n",
    "        values = line.split()\n",
    "        word = values[0]\n",
    "        vector = np.asarray(values[1:], dtype='float32')\n",
    "        embedding_index[word] = vector\n",
    "\n",
    "embedding_dim = 300\n",
    "word_index = tokenizer.word_index\n",
    "embedding_matrix = np.zeros((len(word_index) + 1, embedding_dim))\n",
    "for word, i in word_index.items():\n",
    "    if i > MAX_NUM_WORDS:\n",
    "        continue\n",
    "    vector = embedding_index.get(word)\n",
    "    if vector is not None:\n",
    "        embedding_matrix[i] = vector"
   ]
  },
  {
   "cell_type": "code",
   "execution_count": 7,
   "id": "9c3baa33-72b3-41fb-96c6-494df225a2a3",
   "metadata": {},
   "outputs": [],
   "source": [
    "def build_model():\n",
    "    input_layer = Input(shape=(MAX_SEQUENCE_LENGTH,)) # Hasil Tokenisasi\n",
    "\n",
    "    embedding = Embedding(input_dim=len(word_index)+1, # Mengubah kata menjadi vector embed berdimensi tetap\n",
    "                          output_dim=embedding_dim, # outputnya berupa dimensi\n",
    "                          weights=[embedding_matrix],\n",
    "                          input_length=MAX_SEQUENCE_LENGTH,\n",
    "                          trainable=True)(input_layer) # Embedding diperbolehkan untuk menyesuaikan selama training\n",
    "    # CNN Layer\n",
    "    cnn = Conv1D(64, 7, activation='relu')(embedding) # Mendeteksi fitur lokal dengan 7 frasa, mengekstrak 128 jenis fitur, ReLU mengaktifkan sinyal positif\n",
    "    \n",
    "    # LSTM Layer\n",
    "    # input: Hasil CNN yang masih berformat sekuens (3D tensor)\n",
    "    lstm = Bidirectional(LSTM(128))(cnn) # Memahamai urutan kata 2 arah (maju-mundur). Hidden unit: 64 masing-masing arah\n",
    "    x = Dropout(0.2)(lstm) # Dropout untuk mengurangi overfitting\n",
    "    x = Dense(64, activation='relu')(x) # Fully connected layer dengan 64 neuron, ReLU sebagai aktivasi\n",
    "    output = Dense(3, activation='softmax')(x) # Output layer dengan 3 neuron (jumlah kelas), softmax untuk probabilitas kelas\n",
    "    model = Model(inputs=input_layer, outputs=output)\n",
    "    model.compile(loss='sparse_categorical_crossentropy',\n",
    "                  optimizer='adam',\n",
    "                  metrics=['accuracy'])\n",
    "    return model"
   ]
  },
  {
   "cell_type": "code",
   "execution_count": 8,
   "id": "b0c5181e-7e74-4dfc-9cac-13b24452f15e",
   "metadata": {},
   "outputs": [
    {
     "name": "stdout",
     "output_type": "stream",
     "text": [
      "\n",
      "Fold 1/10\n"
     ]
    },
    {
     "name": "stderr",
     "output_type": "stream",
     "text": [
      "C:\\Users\\atrke\\AppData\\Roaming\\Python\\Python312\\site-packages\\keras\\src\\layers\\core\\embedding.py:90: UserWarning: Argument `input_length` is deprecated. Just remove it.\n",
      "  warnings.warn(\n"
     ]
    },
    {
     "name": "stdout",
     "output_type": "stream",
     "text": [
      "\u001b[1m9/9\u001b[0m \u001b[32m━━━━━━━━━━━━━━━━━━━━\u001b[0m\u001b[37m\u001b[0m \u001b[1m1s\u001b[0m 78ms/step\n",
      "\n",
      "Fold 2/10\n"
     ]
    },
    {
     "name": "stderr",
     "output_type": "stream",
     "text": [
      "C:\\Users\\atrke\\AppData\\Roaming\\Python\\Python312\\site-packages\\keras\\src\\layers\\core\\embedding.py:90: UserWarning: Argument `input_length` is deprecated. Just remove it.\n",
      "  warnings.warn(\n"
     ]
    },
    {
     "name": "stdout",
     "output_type": "stream",
     "text": [
      "\u001b[1m9/9\u001b[0m \u001b[32m━━━━━━━━━━━━━━━━━━━━\u001b[0m\u001b[37m\u001b[0m \u001b[1m3s\u001b[0m 232ms/step\n",
      "\n",
      "Fold 3/10\n"
     ]
    },
    {
     "name": "stderr",
     "output_type": "stream",
     "text": [
      "C:\\Users\\atrke\\AppData\\Roaming\\Python\\Python312\\site-packages\\keras\\src\\layers\\core\\embedding.py:90: UserWarning: Argument `input_length` is deprecated. Just remove it.\n",
      "  warnings.warn(\n"
     ]
    },
    {
     "name": "stdout",
     "output_type": "stream",
     "text": [
      "\u001b[1m9/9\u001b[0m \u001b[32m━━━━━━━━━━━━━━━━━━━━\u001b[0m\u001b[37m\u001b[0m \u001b[1m1s\u001b[0m 81ms/step\n",
      "\n",
      "Fold 4/10\n"
     ]
    },
    {
     "name": "stderr",
     "output_type": "stream",
     "text": [
      "C:\\Users\\atrke\\AppData\\Roaming\\Python\\Python312\\site-packages\\keras\\src\\layers\\core\\embedding.py:90: UserWarning: Argument `input_length` is deprecated. Just remove it.\n",
      "  warnings.warn(\n"
     ]
    },
    {
     "name": "stdout",
     "output_type": "stream",
     "text": [
      "\u001b[1m9/9\u001b[0m \u001b[32m━━━━━━━━━━━━━━━━━━━━\u001b[0m\u001b[37m\u001b[0m \u001b[1m1s\u001b[0m 85ms/step\n",
      "\n",
      "Fold 5/10\n"
     ]
    },
    {
     "name": "stderr",
     "output_type": "stream",
     "text": [
      "C:\\Users\\atrke\\AppData\\Roaming\\Python\\Python312\\site-packages\\keras\\src\\layers\\core\\embedding.py:90: UserWarning: Argument `input_length` is deprecated. Just remove it.\n",
      "  warnings.warn(\n"
     ]
    },
    {
     "name": "stdout",
     "output_type": "stream",
     "text": [
      "\u001b[1m9/9\u001b[0m \u001b[32m━━━━━━━━━━━━━━━━━━━━\u001b[0m\u001b[37m\u001b[0m \u001b[1m1s\u001b[0m 81ms/step\n",
      "\n",
      "Fold 6/10\n"
     ]
    },
    {
     "name": "stderr",
     "output_type": "stream",
     "text": [
      "C:\\Users\\atrke\\AppData\\Roaming\\Python\\Python312\\site-packages\\keras\\src\\layers\\core\\embedding.py:90: UserWarning: Argument `input_length` is deprecated. Just remove it.\n",
      "  warnings.warn(\n"
     ]
    },
    {
     "name": "stdout",
     "output_type": "stream",
     "text": [
      "\u001b[1m9/9\u001b[0m \u001b[32m━━━━━━━━━━━━━━━━━━━━\u001b[0m\u001b[37m\u001b[0m \u001b[1m2s\u001b[0m 132ms/step\n",
      "\n",
      "Fold 7/10\n"
     ]
    },
    {
     "name": "stderr",
     "output_type": "stream",
     "text": [
      "C:\\Users\\atrke\\AppData\\Roaming\\Python\\Python312\\site-packages\\keras\\src\\layers\\core\\embedding.py:90: UserWarning: Argument `input_length` is deprecated. Just remove it.\n",
      "  warnings.warn(\n"
     ]
    },
    {
     "name": "stdout",
     "output_type": "stream",
     "text": [
      "\u001b[1m9/9\u001b[0m \u001b[32m━━━━━━━━━━━━━━━━━━━━\u001b[0m\u001b[37m\u001b[0m \u001b[1m2s\u001b[0m 146ms/step\n",
      "\n",
      "Fold 8/10\n"
     ]
    },
    {
     "name": "stderr",
     "output_type": "stream",
     "text": [
      "C:\\Users\\atrke\\AppData\\Roaming\\Python\\Python312\\site-packages\\keras\\src\\layers\\core\\embedding.py:90: UserWarning: Argument `input_length` is deprecated. Just remove it.\n",
      "  warnings.warn(\n"
     ]
    },
    {
     "name": "stdout",
     "output_type": "stream",
     "text": [
      "\u001b[1m9/9\u001b[0m \u001b[32m━━━━━━━━━━━━━━━━━━━━\u001b[0m\u001b[37m\u001b[0m \u001b[1m1s\u001b[0m 76ms/step\n",
      "\n",
      "Fold 9/10\n"
     ]
    },
    {
     "name": "stderr",
     "output_type": "stream",
     "text": [
      "C:\\Users\\atrke\\AppData\\Roaming\\Python\\Python312\\site-packages\\keras\\src\\layers\\core\\embedding.py:90: UserWarning: Argument `input_length` is deprecated. Just remove it.\n",
      "  warnings.warn(\n"
     ]
    },
    {
     "name": "stdout",
     "output_type": "stream",
     "text": [
      "\u001b[1m9/9\u001b[0m \u001b[32m━━━━━━━━━━━━━━━━━━━━\u001b[0m\u001b[37m\u001b[0m \u001b[1m3s\u001b[0m 219ms/step\n",
      "\n",
      "Fold 10/10\n"
     ]
    },
    {
     "name": "stderr",
     "output_type": "stream",
     "text": [
      "C:\\Users\\atrke\\AppData\\Roaming\\Python\\Python312\\site-packages\\keras\\src\\layers\\core\\embedding.py:90: UserWarning: Argument `input_length` is deprecated. Just remove it.\n",
      "  warnings.warn(\n"
     ]
    },
    {
     "name": "stdout",
     "output_type": "stream",
     "text": [
      "\u001b[1m9/9\u001b[0m \u001b[32m━━━━━━━━━━━━━━━━━━━━\u001b[0m\u001b[37m\u001b[0m \u001b[1m1s\u001b[0m 67ms/step\n",
      "\n",
      "===== 10-Fold CV Results on Balanced Training Data =====\n",
      "Average Accuracy: 93.21%\n",
      "Average Precision: 91.25%\n",
      "Average Recall: 90.39%\n",
      "Average F1-Score: 90.74%\n",
      "Average Log Loss: 0.45\n"
     ]
    }
   ],
   "source": [
    "# 9. 5-Fold Cross Validation on Balanced Train Data\n",
    "# ============================================================================\n",
    "from sklearn.model_selection import StratifiedKFold\n",
    "\n",
    "kf = StratifiedKFold(n_splits=10, shuffle=True, random_state=42)\n",
    "accs, precisions, recalls, f1s, losses = [], [], [], [], []\n",
    "\n",
    "for fold, (train_idx, val_idx) in enumerate(kf.split(X_train, y_train), 1):\n",
    "    print(f\"\\nFold {fold}/10\")\n",
    "    X_tr, X_val = X_train[train_idx], X_train[val_idx]\n",
    "    y_tr, y_val = y_train[train_idx], y_train[val_idx]\n",
    "\n",
    "    model = build_model()\n",
    "    model.fit(X_tr, y_tr, epochs=10, batch_size=32, verbose=0)\n",
    "\n",
    "    y_pred_proba = model.predict(X_val)\n",
    "    y_pred = y_pred_proba.argmax(axis=1)\n",
    "\n",
    "    accs.append(accuracy_score(y_val, y_pred))\n",
    "    precisions.append(precision_score(y_val, y_pred, average='macro'))\n",
    "    recalls.append(recall_score(y_val, y_pred, average='macro'))\n",
    "    f1s.append(f1_score(y_val, y_pred, average='macro'))\n",
    "    losses.append(log_loss(y_val, y_pred_proba))\n",
    "\n",
    "# Summary\n",
    "print(\"\\n===== 10-Fold CV Results on Balanced Training Data =====\")\n",
    "print(\"Average Accuracy: {:.2f}%\".format(np.mean(accs) * 100))\n",
    "print(\"Average Precision: {:.2f}%\".format(np.mean(precisions) * 100))\n",
    "print(\"Average Recall: {:.2f}%\".format(np.mean(recalls) * 100))\n",
    "print(\"Average F1-Score: {:.2f}%\".format(np.mean(f1s) * 100))\n",
    "print(\"Average Log Loss: {:.2f}\".format(np.mean(losses)))"
   ]
  },
  {
   "cell_type": "code",
   "execution_count": 11,
   "metadata": {},
   "outputs": [
    {
     "name": "stderr",
     "output_type": "stream",
     "text": [
      "WARNING:absl:You are saving your model as an HDF5 file via `model.save()` or `keras.saving.save_model(model)`. This file format is considered legacy. We recommend using instead the native Keras format, e.g. `model.save('my_model.keras')` or `keras.saving.save_model(model, 'my_model.keras')`. \n"
     ]
    },
    {
     "name": "stdout",
     "output_type": "stream",
     "text": [
      "Model saved to '../models/sentiment_model.h5'\n",
      "Tokenizer saved to '../models/tokenizer.pkl'\n",
      "Label encoder saved to '../models/label_encoder.pkl'\n"
     ]
    }
   ],
   "source": [
    "import pickle\n",
    "\n",
    "# 8. Save the Trained Model\n",
    "# =============================\n",
    "model.save('../models/sentiment_model.h5')\n",
    "print(\"Model saved to '../models/sentiment_model.h5'\")\n",
    "\n",
    "# Also save the tokenizer for future use\n",
    "with open('../models/tokenizer.pkl', 'wb') as f:\n",
    "    pickle.dump(tokenizer, f)\n",
    "print(\"Tokenizer saved to '../models/tokenizer.pkl'\")\n",
    "\n",
    "# Save the label encoder\n",
    "with open('../models/label_encoder.pkl', 'wb') as f:\n",
    "    pickle.dump(le, f)\n",
    "print(\"Label encoder saved to '../models/label_encoder.pkl'\")"
   ]
  },
  {
   "cell_type": "code",
   "execution_count": 9,
   "id": "846c451d-0cfd-439c-990c-afa90f753939",
   "metadata": {},
   "outputs": [
    {
     "name": "stderr",
     "output_type": "stream",
     "text": [
      "C:\\Users\\atrke\\AppData\\Roaming\\Python\\Python312\\site-packages\\keras\\src\\layers\\core\\embedding.py:90: UserWarning: Argument `input_length` is deprecated. Just remove it.\n",
      "  warnings.warn(\n"
     ]
    },
    {
     "name": "stdout",
     "output_type": "stream",
     "text": [
      "Epoch 1/10\n",
      "\u001b[1m88/88\u001b[0m \u001b[32m━━━━━━━━━━━━━━━━━━━━\u001b[0m\u001b[37m\u001b[0m \u001b[1m19s\u001b[0m 57ms/step - accuracy: 0.6182 - loss: 0.8703\n",
      "Epoch 2/10\n",
      "\u001b[1m88/88\u001b[0m \u001b[32m━━━━━━━━━━━━━━━━━━━━\u001b[0m\u001b[37m\u001b[0m \u001b[1m5s\u001b[0m 56ms/step - accuracy: 0.8153 - loss: 0.4675\n",
      "Epoch 3/10\n",
      "\u001b[1m88/88\u001b[0m \u001b[32m━━━━━━━━━━━━━━━━━━━━\u001b[0m\u001b[37m\u001b[0m \u001b[1m5s\u001b[0m 52ms/step - accuracy: 0.9410 - loss: 0.1718\n",
      "Epoch 4/10\n",
      "\u001b[1m88/88\u001b[0m \u001b[32m━━━━━━━━━━━━━━━━━━━━\u001b[0m\u001b[37m\u001b[0m \u001b[1m5s\u001b[0m 52ms/step - accuracy: 0.9735 - loss: 0.0850\n",
      "Epoch 5/10\n",
      "\u001b[1m88/88\u001b[0m \u001b[32m━━━━━━━━━━━━━━━━━━━━\u001b[0m\u001b[37m\u001b[0m \u001b[1m5s\u001b[0m 52ms/step - accuracy: 0.9883 - loss: 0.0367\n",
      "Epoch 6/10\n",
      "\u001b[1m88/88\u001b[0m \u001b[32m━━━━━━━━━━━━━━━━━━━━\u001b[0m\u001b[37m\u001b[0m \u001b[1m5s\u001b[0m 56ms/step - accuracy: 0.9961 - loss: 0.0139\n",
      "Epoch 7/10\n",
      "\u001b[1m88/88\u001b[0m \u001b[32m━━━━━━━━━━━━━━━━━━━━\u001b[0m\u001b[37m\u001b[0m \u001b[1m5s\u001b[0m 54ms/step - accuracy: 0.9979 - loss: 0.0094\n",
      "Epoch 8/10\n",
      "\u001b[1m88/88\u001b[0m \u001b[32m━━━━━━━━━━━━━━━━━━━━\u001b[0m\u001b[37m\u001b[0m \u001b[1m5s\u001b[0m 61ms/step - accuracy: 0.9974 - loss: 0.0047\n",
      "Epoch 9/10\n",
      "\u001b[1m88/88\u001b[0m \u001b[32m━━━━━━━━━━━━━━━━━━━━\u001b[0m\u001b[37m\u001b[0m \u001b[1m9s\u001b[0m 51ms/step - accuracy: 0.9965 - loss: 0.0139\n",
      "Epoch 10/10\n",
      "\u001b[1m88/88\u001b[0m \u001b[32m━━━━━━━━━━━━━━━━━━━━\u001b[0m\u001b[37m\u001b[0m \u001b[1m5s\u001b[0m 54ms/step - accuracy: 0.9988 - loss: 0.0072\n",
      "\u001b[1m15/15\u001b[0m \u001b[32m━━━━━━━━━━━━━━━━━━━━\u001b[0m\u001b[37m\u001b[0m \u001b[1m1s\u001b[0m 53ms/step\n",
      "Classification Report (Test Set):\n",
      "\n",
      "              precision    recall  f1-score   support\n",
      "\n",
      "    negative       0.48      0.47      0.47        58\n",
      "     neutral       0.48      0.32      0.38        72\n",
      "    positive       0.82      0.89      0.85       326\n",
      "\n",
      "    accuracy                           0.74       456\n",
      "   macro avg       0.59      0.56      0.57       456\n",
      "weighted avg       0.72      0.74      0.73       456\n",
      "\n"
     ]
    }
   ],
   "source": [
    "# 10. Final Training on Full Train Set & Evaluation on Test Set\n",
    "# =============================\n",
    "\n",
    "# Train Final Model on Balanced Training Set\n",
    "model = build_model()\n",
    "model.fit(X_train, y_train, epochs=10, batch_size=32, verbose=1)\n",
    "\n",
    "# Predict on Test Set\n",
    "y_pred_proba = model.predict(X_test)\n",
    "y_pred = y_pred_proba.argmax(axis=1)\n",
    "\n",
    "# Decode label integer back to original class\n",
    "y_true_labels = le.inverse_transform(y_test)\n",
    "y_pred_labels = le.inverse_transform(y_pred)\n",
    "\n",
    "from sklearn.metrics import classification_report\n",
    "\n",
    "print(\"Classification Report (Test Set):\\n\")\n",
    "print(classification_report(y_true_labels, y_pred_labels, target_names=le.classes_))"
   ]
  },
  {
   "cell_type": "code",
   "execution_count": 10,
   "metadata": {},
   "outputs": [
    {
     "data": {
      "image/png": "[encoded data removed]",
      "text/plain": [
       "<Figure size 800x600 with 2 Axes>"
      ]
     },
     "metadata": {},
     "output_type": "display_data"
    },
    {
     "name": "stdout",
     "output_type": "stream",
     "text": [
      "Confusion Matrix:\n",
      "Predicted ->\n",
      "Actual ↓\n",
      "  negative        27         8        23\n",
      "   neutral         9        23        40\n",
      "  positive        20        17       289\n"
     ]
    }
   ],
   "source": [
    "from sklearn.metrics import confusion_matrix\n",
    "import seaborn as sns\n",
    "\n",
    "import matplotlib.pyplot as plt\n",
    "\n",
    "# Create confusion matrix\n",
    "cm = confusion_matrix(y_true_labels, y_pred_labels, labels=le.classes_)\n",
    "\n",
    "# Plot confusion matrix\n",
    "plt.figure(figsize=(8, 6))\n",
    "sns.heatmap(cm, annot=True, fmt='d', cmap='Blues', \n",
    "            xticklabels=le.classes_, yticklabels=le.classes_)\n",
    "plt.title('Confusion Matrix')\n",
    "plt.xlabel('Predicted')\n",
    "plt.ylabel('Actual')\n",
    "plt.show()\n",
    "\n",
    "# Print confusion matrix with labels\n",
    "print(\"Confusion Matrix:\")\n",
    "print(\"Predicted ->\")\n",
    "print(\"Actual ↓\")\n",
    "for i, true_label in enumerate(le.classes_):\n",
    "    print(f\"{true_label:>10}\", end=\"\")\n",
    "    for j, pred_label in enumerate(le.classes_):\n",
    "        print(f\"{cm[i][j]:>10}\", end=\"\")\n",
    "    print()"
   ]
  },
  {
   "cell_type": "markdown",
   "metadata": {},
   "source": [
    "No kernel connected"
   ]
  }
 ],
 "metadata": {
  "kernelspec": {
   "display_name": "base",
   "language": "python",
   "name": "python3"
  },
  "language_info": {
   "codemirror_mode": {
    "name": "ipython",
    "version": 3
   },
   "file_extension": ".py",
   "mimetype": "text/x-python",
   "name": "python",
   "nbconvert_exporter": "python",
   "pygments_lexer": "ipython3",
   "version": "3.12.3"
  }
 },
 "nbformat": 4,
 "nbformat_minor": 2
}
