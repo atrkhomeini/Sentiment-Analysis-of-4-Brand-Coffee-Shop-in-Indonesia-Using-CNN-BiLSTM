{
 "cells": [
  {
   "cell_type": "code",
   "execution_count": null,
   "id": "1d591227-f6a4-439f-937d-d0e56537ce27",
   "metadata": {},
   "outputs": [],
   "source": [
    "# after validation data train\n",
    "df_train = pd.read_excel('../data/data_valid/main_indobert_train.xlsx', sheet_name='data_valid')\n",
    "df_test = pd.read_excel('../data/data_valid/main_indobert_train.xlsx', sheet_name='data_test')\n",
    "le = LabelEncoder()\n",
    "df_train['Encoded_Label_Valid'] = le.fit_transform(df_train['Validation'])\n",
    "df_test['Encoded_Label'] = le.transform(df_test['Label_Bert'])"
   ]
  },
  {
   "cell_type": "code",
   "execution_count": null,
   "id": "91405237-01ba-41eb-b5cc-04d2fcec6bc1",
   "metadata": {},
   "outputs": [],
   "source": [
    "# 3. Handle Imbalanced Data\n",
    "# =============================\n",
    "df_neg = df_train[df_train['Validation'] == 'negative'].copy()\n",
    "aug = naw.SynonymAug(aug_src='wordnet')\n",
    "df_neg['Augmented_Text'] = df_neg['Text Normalization'].apply(lambda x: aug.augment(x))\n",
    "df_neg_augmented = df_neg.copy()\n",
    "df_neg_augmented['Text Normalization'] = df_neg_augmented['Augmented_Text']\n",
    "df_neg_final = pd.concat([df_neg, df_neg_augmented], ignore_index=True)\n",
    "\n",
    "df_other = df_train[df_train['Validation'] != 'negative']\n",
    "df_aug_combined = pd.concat([df_other, df_neg_final], ignore_index=True)\n",
    "\n",
    "max_count = df_aug_combined['Encoded_Label_Valid'].value_counts().max()\n",
    "df_balanced = pd.concat([\n",
    "    resample(sub_df, replace=True, n_samples=max_count, random_state=42)\n",
    "    for _, sub_df in df_aug_combined.groupby('Encoded_Label_Valid')\n",
    "], ignore_index=True)"
   ]
  },
  {
   "cell_type": "code",
   "execution_count": null,
   "id": "d6efdb1f-d5aa-4f56-9835-d2c43f03062a",
   "metadata": {},
   "outputs": [],
   "source": [
    "# 4. Tokenization\n",
    "# =============================\n",
    "MAX_NUM_WORDS = 10000\n",
    "MAX_SEQUENCE_LENGTH = 50\n",
    "tokenizer = Tokenizer(num_words=MAX_NUM_WORDS, oov_token='<OOV>')\n",
    "tokenizer.fit_on_texts(df_balanced['Text Normalization'])\n",
    "\n",
    "X_train = pad_sequences(tokenizer.texts_to_sequences(df_balanced['Text Normalization']),\n",
    "                        maxlen=MAX_SEQUENCE_LENGTH, padding='post')\n",
    "y_train = df_balanced['Encoded_Label'].values\n",
    "\n",
    "X_test = pad_sequences(tokenizer.texts_to_sequences(df_test['Text Normalization']),\n",
    "                       maxlen=MAX_SEQUENCE_LENGTH, padding='post')\n",
    "y_test = df_test['Encoded_Label'].values"
   ]
  },
  {
   "cell_type": "code",
   "execution_count": null,
   "id": "191f2b0b-50b8-4233-afec-8f475abaf824",
   "metadata": {},
   "outputs": [],
   "source": [
    "# 5. Load GloVe Embedding\n",
    "# =============================\n",
    "embedding_index = {}\n",
    "with open(\"/media/atrkeffect/BOS/TA/tweet/code/src/glove/glove.6B.300d.txt\", encoding='utf8') as f:\n",
    "    for line in f:\n",
    "        values = line.split()\n",
    "        word = values[0]\n",
    "        vector = np.asarray(values[1:], dtype='float32')\n",
    "        embedding_index[word] = vector\n",
    "\n",
    "embedding_dim = 300\n",
    "word_index = tokenizer.word_index\n",
    "embedding_matrix = np.zeros((len(word_index) + 1, embedding_dim))\n",
    "for word, i in word_index.items():\n",
    "    if i > MAX_NUM_WORDS:\n",
    "        continue\n",
    "    vector = embedding_index.get(word)\n",
    "    if vector is not None:\n",
    "        embedding_matrix[i] = vector"
   ]
  },
  {
   "cell_type": "code",
   "execution_count": null,
   "id": "9ec4fb15-c686-4fbb-a66a-055ad76f1aa7",
   "metadata": {},
   "outputs": [],
   "source": [
    "# 6. Build Model with Best Param\n",
    "# =============================\n",
    "def build_model():\n",
    "    input_layer = Input(shape=(MAX_SEQUENCE_LENGTH,))\n",
    "    embedding = Embedding(input_dim=len(word_index)+1,\n",
    "                          output_dim=embedding_dim,\n",
    "                          weights=[embedding_matrix],\n",
    "                          input_length=MAX_SEQUENCE_LENGTH,\n",
    "                          trainable=True)(input_layer)\n",
    "    cnn = Conv1D(128, 7, activation='relu')(embedding)\n",
    "    cnn = GlobalAveragePooling1D()(cnn)\n",
    "    lstm = Bidirectional(LSTM(64))(embedding)\n",
    "    x = concatenate([cnn, lstm])\n",
    "    x = Dropout(0.2)(x)\n",
    "    x = Dense(64, activation='relu')(x)\n",
    "    output = Dense(3, activation='softmax')(x)\n",
    "    model = Model(inputs=input_layer, outputs=output)\n",
    "    model.compile(loss='sparse_categorical_crossentropy',\n",
    "                  optimizer='adam',\n",
    "                  metrics=['accuracy'])\n",
    "    return model"
   ]
  },
  {
   "cell_type": "code",
   "execution_count": null,
   "id": "3242a6ba-f09c-4fe7-992b-af916ce2d883",
   "metadata": {},
   "outputs": [
    {
     "name": "stdout",
     "output_type": "stream",
     "text": [
      "\n",
      "Fold 1/5\n"
     ]
    },
    {
     "name": "stderr",
     "output_type": "stream",
     "text": [
      "/home/atrkeffect/anaconda3/lib/python3.12/site-packages/keras/src/layers/core/embedding.py:90: UserWarning: Argument `input_length` is deprecated. Just remove it.\n",
      "  warnings.warn(\n"
     ]
    },
    {
     "name": "stdout",
     "output_type": "stream",
     "text": [
      "\u001b[1m19/19\u001b[0m \u001b[32m━━━━━━━━━━━━━━━━━━━━\u001b[0m\u001b[37m\u001b[0m \u001b[1m1s\u001b[0m 20ms/step\n",
      "\n",
      "Fold 2/5\n"
     ]
    },
    {
     "name": "stderr",
     "output_type": "stream",
     "text": [
      "/home/atrkeffect/anaconda3/lib/python3.12/site-packages/keras/src/layers/core/embedding.py:90: UserWarning: Argument `input_length` is deprecated. Just remove it.\n",
      "  warnings.warn(\n"
     ]
    },
    {
     "name": "stdout",
     "output_type": "stream",
     "text": [
      "\u001b[1m19/19\u001b[0m \u001b[32m━━━━━━━━━━━━━━━━━━━━\u001b[0m\u001b[37m\u001b[0m \u001b[1m1s\u001b[0m 23ms/step\n",
      "\n",
      "Fold 3/5\n"
     ]
    },
    {
     "name": "stderr",
     "output_type": "stream",
     "text": [
      "/home/atrkeffect/anaconda3/lib/python3.12/site-packages/keras/src/layers/core/embedding.py:90: UserWarning: Argument `input_length` is deprecated. Just remove it.\n",
      "  warnings.warn(\n"
     ]
    },
    {
     "name": "stdout",
     "output_type": "stream",
     "text": [
      "\u001b[1m19/19\u001b[0m \u001b[32m━━━━━━━━━━━━━━━━━━━━\u001b[0m\u001b[37m\u001b[0m \u001b[1m1s\u001b[0m 22ms/step\n",
      "\n",
      "Fold 4/5\n"
     ]
    },
    {
     "name": "stderr",
     "output_type": "stream",
     "text": [
      "/home/atrkeffect/anaconda3/lib/python3.12/site-packages/keras/src/layers/core/embedding.py:90: UserWarning: Argument `input_length` is deprecated. Just remove it.\n",
      "  warnings.warn(\n"
     ]
    },
    {
     "name": "stdout",
     "output_type": "stream",
     "text": [
      "\u001b[1m19/19\u001b[0m \u001b[32m━━━━━━━━━━━━━━━━━━━━\u001b[0m\u001b[37m\u001b[0m \u001b[1m1s\u001b[0m 25ms/step\n",
      "\n",
      "Fold 5/5\n"
     ]
    },
    {
     "name": "stderr",
     "output_type": "stream",
     "text": [
      "/home/atrkeffect/anaconda3/lib/python3.12/site-packages/keras/src/layers/core/embedding.py:90: UserWarning: Argument `input_length` is deprecated. Just remove it.\n",
      "  warnings.warn(\n"
     ]
    },
    {
     "name": "stdout",
     "output_type": "stream",
     "text": [
      "\u001b[1m19/19\u001b[0m \u001b[32m━━━━━━━━━━━━━━━━━━━━\u001b[0m\u001b[37m\u001b[0m \u001b[1m7s\u001b[0m 25ms/step\n",
      "\n",
      "===== 5-Fold CV Results on Balanced Training Data =====\n",
      "Average Accuracy: 86.69%\n",
      "Average Precision: 84.14%\n",
      "Average Recall: 84.09%\n",
      "Average F1-Score: 84.02%\n",
      "Average Log Loss: 0.58\n"
     ]
    }
   ],
   "source": [
    "# 9. 5-Fold Cross Validation on Balanced Train Data\n",
    "# =============================\n",
    "from sklearn.model_selection import StratifiedKFold\n",
    "\n",
    "kf = StratifiedKFold(n_splits=5, shuffle=True, random_state=42)\n",
    "accs, precisions, recalls, f1s, losses = [], [], [], [], []\n",
    "\n",
    "for fold, (train_idx, val_idx) in enumerate(kf.split(X_train, y_train), 1):\n",
    "    print(f\"\\nFold {fold}/5\")\n",
    "    X_tr, X_val = X_train[train_idx], X_train[val_idx]\n",
    "    y_tr, y_val = y_train[train_idx], y_train[val_idx]\n",
    "\n",
    "    model = build_model()\n",
    "    model.fit(X_tr, y_tr, epochs=10, batch_size=32, verbose=0)\n",
    "\n",
    "    y_pred_proba = model.predict(X_val)\n",
    "    y_pred = y_pred_proba.argmax(axis=1)\n",
    "\n",
    "    accs.append(accuracy_score(y_val, y_pred))\n",
    "    precisions.append(precision_score(y_val, y_pred, average='macro'))\n",
    "    recalls.append(recall_score(y_val, y_pred, average='macro'))\n",
    "    f1s.append(f1_score(y_val, y_pred, average='macro'))\n",
    "    losses.append(log_loss(y_val, y_pred_proba))\n",
    "\n",
    "# Summary\n",
    "print(\"\\n===== 5-Fold CV Results on Balanced Training Data =====\")\n",
    "print(\"Average Accuracy: {:.2f}%\".format(np.mean(accs) * 100))\n",
    "print(\"Average Precision: {:.2f}%\".format(np.mean(precisions) * 100))\n",
    "print(\"Average Recall: {:.2f}%\".format(np.mean(recalls) * 100))\n",
    "print(\"Average F1-Score: {:.2f}%\".format(np.mean(f1s) * 100))\n",
    "print(\"Average Log Loss: {:.2f}\".format(np.mean(losses)))"
   ]
  },
  {
   "cell_type": "code",
   "execution_count": null,
   "id": "c875ecac-83cd-49e7-a517-00bc88d83c2c",
   "metadata": {},
   "outputs": [
    {
     "name": "stdout",
     "output_type": "stream",
     "text": [
      "Epoch 1/10\n"
     ]
    },
    {
     "name": "stderr",
     "output_type": "stream",
     "text": [
      "/home/atrkeffect/anaconda3/lib/python3.12/site-packages/keras/src/layers/core/embedding.py:90: UserWarning: Argument `input_length` is deprecated. Just remove it.\n",
      "  warnings.warn(\n"
     ]
    },
    {
     "name": "stdout",
     "output_type": "stream",
     "text": [
      "\u001b[1m92/92\u001b[0m \u001b[32m━━━━━━━━━━━━━━━━━━━━\u001b[0m\u001b[37m\u001b[0m \u001b[1m5s\u001b[0m 26ms/step - accuracy: 0.5818 - loss: 0.9068\n",
      "Epoch 2/10\n",
      "\u001b[1m92/92\u001b[0m \u001b[32m━━━━━━━━━━━━━━━━━━━━\u001b[0m\u001b[37m\u001b[0m \u001b[1m2s\u001b[0m 26ms/step - accuracy: 0.7637 - loss: 0.6055\n",
      "Epoch 3/10\n",
      "\u001b[1m92/92\u001b[0m \u001b[32m━━━━━━━━━━━━━━━━━━━━\u001b[0m\u001b[37m\u001b[0m \u001b[1m2s\u001b[0m 27ms/step - accuracy: 0.8824 - loss: 0.3192\n",
      "Epoch 4/10\n",
      "\u001b[1m92/92\u001b[0m \u001b[32m━━━━━━━━━━━━━━━━━━━━\u001b[0m\u001b[37m\u001b[0m \u001b[1m3s\u001b[0m 27ms/step - accuracy: 0.9329 - loss: 0.1797\n",
      "Epoch 5/10\n",
      "\u001b[1m92/92\u001b[0m \u001b[32m━━━━━━━━━━━━━━━━━━━━\u001b[0m\u001b[37m\u001b[0m \u001b[1m2s\u001b[0m 27ms/step - accuracy: 0.9505 - loss: 0.1260\n",
      "Epoch 6/10\n",
      "\u001b[1m92/92\u001b[0m \u001b[32m━━━━━━━━━━━━━━━━━━━━\u001b[0m\u001b[37m\u001b[0m \u001b[1m3s\u001b[0m 27ms/step - accuracy: 0.9625 - loss: 0.1021\n",
      "Epoch 7/10\n",
      "\u001b[1m92/92\u001b[0m \u001b[32m━━━━━━━━━━━━━━━━━━━━\u001b[0m\u001b[37m\u001b[0m \u001b[1m3s\u001b[0m 28ms/step - accuracy: 0.9664 - loss: 0.0843\n",
      "Epoch 8/10\n",
      "\u001b[1m92/92\u001b[0m \u001b[32m━━━━━━━━━━━━━━━━━━━━\u001b[0m\u001b[37m\u001b[0m \u001b[1m3s\u001b[0m 28ms/step - accuracy: 0.9702 - loss: 0.0706\n",
      "Epoch 9/10\n",
      "\u001b[1m92/92\u001b[0m \u001b[32m━━━━━━━━━━━━━━━━━━━━\u001b[0m\u001b[37m\u001b[0m \u001b[1m3s\u001b[0m 28ms/step - accuracy: 0.9678 - loss: 0.0812\n",
      "Epoch 10/10\n",
      "\u001b[1m92/92\u001b[0m \u001b[32m━━━━━━━━━━━━━━━━━━━━\u001b[0m\u001b[37m\u001b[0m \u001b[1m3s\u001b[0m 28ms/step - accuracy: 0.9685 - loss: 0.0717\n",
      "\u001b[1m15/15\u001b[0m \u001b[32m━━━━━━━━━━━━━━━━━━━━\u001b[0m\u001b[37m\u001b[0m \u001b[1m1s\u001b[0m 27ms/step\n",
      "\n",
      "===== Evaluation on Final Test Set =====\n",
      "Accuracy: 65.21%\n",
      "Precision: 56.45%\n",
      "Recall: 54.29%\n",
      "F1-Score: 54.62%\n",
      "Log Loss: 1.7810\n"
     ]
    }
   ],
   "source": [
    "# =============================\n",
    "# 10. Final Training on Full Train Set & Evaluation on Test Set\n",
    "# =============================\n",
    "\n",
    "# Retrain the model on the full balanced training set\n",
    "final_model = build_model()\n",
    "final_model.fit(X_train, y_train, epochs=10, batch_size=32, verbose=1)\n",
    "\n",
    "# Predict on test set\n",
    "y_test_pred_proba = final_model.predict(X_test)\n",
    "y_test_pred = y_test_pred_proba.argmax(axis=1)\n",
    "\n",
    "# Evaluate\n",
    "print(\"\\n===== Evaluation on Final Test Set =====\")\n",
    "print(\"Accuracy: {:.2f}%\".format(accuracy_score(y_test, y_test_pred) * 100))\n",
    "print(\"Precision: {:.2f}%\".format(precision_score(y_test, y_test_pred, average='macro') * 100))\n",
    "print(\"Recall: {:.2f}%\".format(recall_score(y_test, y_test_pred, average='macro') * 100))\n",
    "print(\"F1-Score: {:.2f}%\".format(f1_score(y_test, y_test_pred, average='macro') * 100))\n",
    "print(\"Log Loss: {:.4f}\".format(log_loss(y_test, y_test_pred_proba)))"
   ]
  },
  {
   "cell_type": "code",
   "execution_count": null,
   "id": "249ce89f-b3a8-440b-baf0-30a8238e4834",
   "metadata": {},
   "outputs": [
    {
     "name": "stdout",
     "output_type": "stream",
     "text": [
      "Epoch 1/10\n",
      "\u001b[1m92/92\u001b[0m \u001b[32m━━━━━━━━━━━━━━━━━━━━\u001b[0m\u001b[37m\u001b[0m \u001b[1m10s\u001b[0m 29ms/step - accuracy: 0.5662 - loss: 0.9073\n",
      "Epoch 2/10\n",
      "\u001b[1m92/92\u001b[0m \u001b[32m━━━━━━━━━━━━━━━━━━━━\u001b[0m\u001b[37m\u001b[0m \u001b[1m3s\u001b[0m 29ms/step - accuracy: 0.7544 - loss: 0.6117\n",
      "Epoch 3/10\n",
      "\u001b[1m92/92\u001b[0m \u001b[32m━━━━━━━━━━━━━━━━━━━━\u001b[0m\u001b[37m\u001b[0m \u001b[1m3s\u001b[0m 29ms/step - accuracy: 0.8881 - loss: 0.3300\n",
      "Epoch 4/10\n",
      "\u001b[1m92/92\u001b[0m \u001b[32m━━━━━━━━━━━━━━━━━━━━\u001b[0m\u001b[37m\u001b[0m \u001b[1m3s\u001b[0m 29ms/step - accuracy: 0.9425 - loss: 0.1706\n",
      "Epoch 5/10\n",
      "\u001b[1m92/92\u001b[0m \u001b[32m━━━━━━━━━━━━━━━━━━━━\u001b[0m\u001b[37m\u001b[0m \u001b[1m3s\u001b[0m 32ms/step - accuracy: 0.9435 - loss: 0.1360\n",
      "Epoch 6/10\n",
      "\u001b[1m92/92\u001b[0m \u001b[32m━━━━━━━━━━━━━━━━━━━━\u001b[0m\u001b[37m\u001b[0m \u001b[1m3s\u001b[0m 30ms/step - accuracy: 0.9607 - loss: 0.1154\n",
      "Epoch 7/10\n",
      "\u001b[1m92/92\u001b[0m \u001b[32m━━━━━━━━━━━━━━━━━━━━\u001b[0m\u001b[37m\u001b[0m \u001b[1m3s\u001b[0m 32ms/step - accuracy: 0.9646 - loss: 0.0892\n",
      "Epoch 8/10\n",
      "\u001b[1m92/92\u001b[0m \u001b[32m━━━━━━━━━━━━━━━━━━━━\u001b[0m\u001b[37m\u001b[0m \u001b[1m5s\u001b[0m 30ms/step - accuracy: 0.9658 - loss: 0.0834\n",
      "Epoch 9/10\n",
      "\u001b[1m92/92\u001b[0m \u001b[32m━━━━━━━━━━━━━━━━━━━━\u001b[0m\u001b[37m\u001b[0m \u001b[1m3s\u001b[0m 31ms/step - accuracy: 0.9697 - loss: 0.0690\n",
      "Epoch 10/10\n",
      "\u001b[1m92/92\u001b[0m \u001b[32m━━━━━━━━━━━━━━━━━━━━\u001b[0m\u001b[37m\u001b[0m \u001b[1m3s\u001b[0m 28ms/step - accuracy: 0.9734 - loss: 0.0717\n",
      "\u001b[1m15/15\u001b[0m \u001b[32m━━━━━━━━━━━━━━━━━━━━\u001b[0m\u001b[37m\u001b[0m \u001b[1m1s\u001b[0m 23ms/step\n"
     ]
    }
   ],
   "source": [
    "# 10. Final Training on Full Train Set & Evaluation on Test Set\n",
    "# =============================\n",
    "\n",
    "# Train Final Model on Balanced Training Set\n",
    "model = build_model()\n",
    "model.fit(X_train, y_train, epochs=10, batch_size=32, verbose=1)\n",
    "\n",
    "# Predict on Test Set\n",
    "y_pred_proba = model.predict(X_test)\n",
    "y_pred = y_pred_proba.argmax(axis=1)\n",
    "\n",
    "# Decode label integer back to original class\n",
    "y_true_labels = le.inverse_transform(y_test)\n",
    "y_pred_labels = le.inverse_transform(y_pred)"
   ]
  },
  {
   "cell_type": "code",
   "execution_count": null,
   "id": "99f56ebb-b1e2-47ab-80c5-fad1f8872fb5",
   "metadata": {},
   "outputs": [
    {
     "name": "stdout",
     "output_type": "stream",
     "text": [
      "Classification Report (Test Set):\n",
      "\n",
      "              precision    recall  f1-score   support\n",
      "\n",
      "    negative       0.48      0.46      0.47       110\n",
      "     neutral       0.51      0.47      0.49        72\n",
      "    positive       0.75      0.77      0.76       275\n",
      "\n",
      "    accuracy                           0.65       457\n",
      "   macro avg       0.58      0.57      0.57       457\n",
      "weighted avg       0.65      0.65      0.65       457\n",
      "\n"
     ]
    }
   ],
   "source": [
    "from sklearn.metrics import classification_report\n",
    "\n",
    "print(\"Classification Report (Test Set):\\n\")\n",
    "print(classification_report(y_true_labels, y_pred_labels, target_names=le.classes_))"
   ]
  },
  {
   "cell_type": "code",
   "execution_count": null,
   "id": "dce50f70-d6d7-42d3-9f2e-25b3747a8810",
   "metadata": {},
   "outputs": [
    {
     "data": {
      "image/png": "[encoded data removed]",
      "text/plain": [
       "<Figure size 600x500 with 2 Axes>"
      ]
     },
     "metadata": {},
     "output_type": "display_data"
    }
   ],
   "source": [
    "# 11. Visualize Results\n",
    "# =============================\n",
    "# 1. Confusion Matrix\n",
    "import matplotlib.pyplot as plt\n",
    "from sklearn.metrics import confusion_matrix\n",
    "import seaborn as sns\n",
    "\n",
    "# Confusion Matrix\n",
    "cm = confusion_matrix(y_true_labels, y_pred_labels, labels=le.classes_)\n",
    "\n",
    "# Plotting\n",
    "plt.figure(figsize=(6, 5))\n",
    "sns.heatmap(cm, annot=True, fmt='d', cmap='Blues',\n",
    "            xticklabels=le.classes_, yticklabels=le.classes_)\n",
    "plt.xlabel(\"Predicted Label\")\n",
    "plt.ylabel(\"True Label\")\n",
    "plt.title(\"Confusion Matrix - Test Set\")\n",
    "plt.tight_layout()\n",
    "plt.show()"
   ]
  },
  {
   "cell_type": "code",
   "execution_count": null,
   "id": "d4807a52-4210-4eee-98bf-5ea1b027a96f",
   "metadata": {},
   "outputs": [
    {
     "data": {
      "image/png": "[encoded data removed]",
      "text/plain": [
       "<Figure size 640x480 with 1 Axes>"
      ]
     },
     "metadata": {},
     "output_type": "display_data"
    }
   ],
   "source": [
    "# 2. Bar chart akurasi tiap kelas\n",
    "import pandas as pd\n",
    "\n",
    "report = classification_report(y_true_labels, y_pred_labels, target_names=le.classes_, output_dict=True)\n",
    "df_report = pd.DataFrame(report).transpose()\n",
    "\n",
    "# Bar chart F1 per kelas\n",
    "ax = df_report.iloc[:-3]['f1-score'].plot(kind='bar', color='skyblue')\n",
    "plt.title(\"F1-Score per Class on Test Set\")\n",
    "plt.ylabel(\"F1 Score\")\n",
    "plt.xticks(rotation=0)\n",
    "plt.ylim(0, 1)\n",
    "plt.grid(True, axis='y', linestyle='--', alpha=0.7)\n",
    "\n",
    "# Add data labels above bars\n",
    "for p in ax.patches:\n",
    "    ax.annotate(f\"{p.get_height():.2f}\", \n",
    "                (p.get_x() + p.get_width() / 2., p.get_height()), \n",
    "                ha='center', va='bottom', fontsize=10)\n",
    "\n",
    "plt.tight_layout()\n",
    "plt.show()"
   ]
  },
  {
   "cell_type": "code",
   "execution_count": null,
   "id": "66806cdd-a6db-4d96-83c4-a79f41c863c1",
   "metadata": {},
   "outputs": [],
   "source": [
    "# save results\n",
    "df_test['True Label'] = y_true_labels\n",
    "df_test['Predicted Label'] = y_pred_labels\n",
    "\n",
    "df_test[['Text Normalization', 'True Label', 'Predicted Label']].to_csv(\n",
    "    '../data/output/test_predictions.csv', index=False)"
   ]
  }
 ],
 "metadata": {
  "language_info": {
   "codemirror_mode": {
    "name": "ipython",
    "version": 3
   },
   "file_extension": ".py",
   "mimetype": "text/x-python",
   "name": "python",
   "nbconvert_exporter": "python",
   "pygments_lexer": "ipython3",
   "version": 3
  }
 },
 "nbformat": 4,
 "nbformat_minor": 2
}
