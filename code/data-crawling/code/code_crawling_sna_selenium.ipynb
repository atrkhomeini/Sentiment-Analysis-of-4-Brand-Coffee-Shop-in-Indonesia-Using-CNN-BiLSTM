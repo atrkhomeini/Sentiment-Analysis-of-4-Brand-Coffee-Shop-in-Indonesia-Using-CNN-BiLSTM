{
 "cells": [
  {
   "cell_type": "code",
   "execution_count": 1,
   "metadata": {
    "id": "MDw9dbACzTNh"
   },
   "outputs": [
    {
     "name": "stdout",
     "output_type": "stream",
     "text": [
      "Requirement already satisfied: selenium in /home/atrkeffect/anaconda3/lib/python3.12/site-packages (4.26.1)\n",
      "Requirement already satisfied: urllib3<3,>=1.26 in /home/atrkeffect/anaconda3/lib/python3.12/site-packages (from urllib3[socks]<3,>=1.26->selenium) (2.2.2)\n",
      "Requirement already satisfied: trio~=0.17 in /home/atrkeffect/anaconda3/lib/python3.12/site-packages (from selenium) (0.27.0)\n",
      "Requirement already satisfied: trio-websocket~=0.9 in /home/atrkeffect/anaconda3/lib/python3.12/site-packages (from selenium) (0.11.1)\n",
      "Requirement already satisfied: certifi>=2021.10.8 in /home/atrkeffect/anaconda3/lib/python3.12/site-packages (from selenium) (2024.6.2)\n",
      "Requirement already satisfied: typing_extensions~=4.9 in /home/atrkeffect/anaconda3/lib/python3.12/site-packages (from selenium) (4.11.0)\n",
      "Requirement already satisfied: websocket-client~=1.8 in /home/atrkeffect/anaconda3/lib/python3.12/site-packages (from selenium) (1.8.0)\n",
      "Requirement already satisfied: attrs>=23.2.0 in /home/atrkeffect/anaconda3/lib/python3.12/site-packages (from trio~=0.17->selenium) (24.2.0)\n",
      "Requirement already satisfied: sortedcontainers in /home/atrkeffect/anaconda3/lib/python3.12/site-packages (from trio~=0.17->selenium) (2.4.0)\n",
      "Requirement already satisfied: idna in /home/atrkeffect/anaconda3/lib/python3.12/site-packages (from trio~=0.17->selenium) (3.7)\n",
      "Requirement already satisfied: outcome in /home/atrkeffect/anaconda3/lib/python3.12/site-packages (from trio~=0.17->selenium) (1.3.0.post0)\n",
      "Requirement already satisfied: sniffio>=1.3.0 in /home/atrkeffect/anaconda3/lib/python3.12/site-packages (from trio~=0.17->selenium) (1.3.0)\n",
      "Requirement already satisfied: wsproto>=0.14 in /home/atrkeffect/anaconda3/lib/python3.12/site-packages (from trio-websocket~=0.9->selenium) (1.2.0)\n",
      "Requirement already satisfied: pysocks!=1.5.7,<2.0,>=1.5.6 in /home/atrkeffect/anaconda3/lib/python3.12/site-packages (from urllib3[socks]<3,>=1.26->selenium) (1.7.1)\n",
      "Requirement already satisfied: h11<1,>=0.9.0 in /home/atrkeffect/anaconda3/lib/python3.12/site-packages (from wsproto>=0.14->trio-websocket~=0.9->selenium) (0.14.0)\n"
     ]
    }
   ],
   "source": [
    "!pip install selenium"
   ]
  },
  {
   "cell_type": "code",
   "execution_count": 1,
   "metadata": {},
   "outputs": [],
   "source": [
    "from selenium import webdriver\n",
    "from selenium.webdriver.firefox.service import Service\n",
    "from selenium.webdriver.firefox.options import Options\n",
    "from selenium.webdriver.common.by import By\n",
    "from selenium.webdriver.support.ui import WebDriverWait\n",
    "from selenium.webdriver.support import expected_conditions as EC\n",
    "import time\n",
    "import pandas as pd"
   ]
  },
  {
   "cell_type": "code",
   "execution_count": 5,
   "metadata": {
    "id": "6nQJwdBF1yyb"
   },
   "outputs": [
    {
     "ename": "WebDriverException",
     "evalue": "Message: Process unexpectedly closed with status 1\n",
     "output_type": "error",
     "traceback": [
      "\u001b[0;31m---------------------------------------------------------------------------\u001b[0m",
      "\u001b[0;31mWebDriverException\u001b[0m                        Traceback (most recent call last)",
      "Cell \u001b[0;32mIn[5], line 102\u001b[0m\n\u001b[1;32m     98\u001b[0m             \u001b[38;5;28;01mbreak\u001b[39;00m\n\u001b[1;32m    100\u001b[0m     \u001b[38;5;28;01mreturn\u001b[39;00m user_data, text_data, date_data, tweet_link_data, media_link_data, reply_to_data\n\u001b[0;32m--> 102\u001b[0m driver \u001b[38;5;241m=\u001b[39m create_driver()\n\u001b[1;32m    103\u001b[0m web \u001b[38;5;241m=\u001b[39m \u001b[38;5;124m'\u001b[39m\u001b[38;5;124mhttps://x.com/search?q=foodfess2\u001b[39m\u001b[38;5;124m%\u001b[39m\u001b[38;5;124m20tomoro\u001b[39m\u001b[38;5;132;01m%202024%\u001b[39;00m\u001b[38;5;124m20lang\u001b[39m\u001b[38;5;124m%\u001b[39m\u001b[38;5;124m3Aid\u001b[39m\u001b[38;5;132;01m%20u\u001b[39;00m\u001b[38;5;124mntil\u001b[39m\u001b[38;5;124m%\u001b[39m\u001b[38;5;124m3A2024-07-01\u001b[39m\u001b[38;5;132;01m%20s\u001b[39;00m\u001b[38;5;124mince\u001b[39m\u001b[38;5;124m%\u001b[39m\u001b[38;5;124m3A2023-07-01&src=typed_query&f=live\u001b[39m\u001b[38;5;124m'\u001b[39m \u001b[38;5;66;03m# Masukan link yang akan di cari\u001b[39;00m\n\u001b[1;32m    104\u001b[0m driver\u001b[38;5;241m.\u001b[39mget(web)\n",
      "Cell \u001b[0;32mIn[5], line 17\u001b[0m, in \u001b[0;36mcreate_driver\u001b[0;34m()\u001b[0m\n\u001b[1;32m     16\u001b[0m \u001b[38;5;28;01mdef\u001b[39;00m \u001b[38;5;21mcreate_driver\u001b[39m():\n\u001b[0;32m---> 17\u001b[0m     \u001b[38;5;28;01mreturn\u001b[39;00m webdriver\u001b[38;5;241m.\u001b[39mFirefox(service\u001b[38;5;241m=\u001b[39mservice, options\u001b[38;5;241m=\u001b[39moptions)\n",
      "File \u001b[0;32m~/anaconda3/lib/python3.12/site-packages/selenium/webdriver/firefox/webdriver.py:71\u001b[0m, in \u001b[0;36mWebDriver.__init__\u001b[0;34m(self, options, service, keep_alive)\u001b[0m\n\u001b[1;32m     64\u001b[0m executor \u001b[38;5;241m=\u001b[39m FirefoxRemoteConnection(\n\u001b[1;32m     65\u001b[0m     remote_server_addr\u001b[38;5;241m=\u001b[39m\u001b[38;5;28mself\u001b[39m\u001b[38;5;241m.\u001b[39mservice\u001b[38;5;241m.\u001b[39mservice_url,\n\u001b[1;32m     66\u001b[0m     keep_alive\u001b[38;5;241m=\u001b[39mkeep_alive,\n\u001b[1;32m     67\u001b[0m     ignore_proxy\u001b[38;5;241m=\u001b[39moptions\u001b[38;5;241m.\u001b[39m_ignore_local_proxy,\n\u001b[1;32m     68\u001b[0m )\n\u001b[1;32m     70\u001b[0m \u001b[38;5;28;01mtry\u001b[39;00m:\n\u001b[0;32m---> 71\u001b[0m     \u001b[38;5;28msuper\u001b[39m()\u001b[38;5;241m.\u001b[39m\u001b[38;5;21m__init__\u001b[39m(command_executor\u001b[38;5;241m=\u001b[39mexecutor, options\u001b[38;5;241m=\u001b[39moptions)\n\u001b[1;32m     72\u001b[0m \u001b[38;5;28;01mexcept\u001b[39;00m \u001b[38;5;167;01mException\u001b[39;00m:\n\u001b[1;32m     73\u001b[0m     \u001b[38;5;28mself\u001b[39m\u001b[38;5;241m.\u001b[39mquit()\n",
      "File \u001b[0;32m~/anaconda3/lib/python3.12/site-packages/selenium/webdriver/remote/webdriver.py:238\u001b[0m, in \u001b[0;36mWebDriver.__init__\u001b[0;34m(self, command_executor, keep_alive, file_detector, options, locator_converter, web_element_cls, client_config)\u001b[0m\n\u001b[1;32m    236\u001b[0m \u001b[38;5;28mself\u001b[39m\u001b[38;5;241m.\u001b[39m_authenticator_id \u001b[38;5;241m=\u001b[39m \u001b[38;5;28;01mNone\u001b[39;00m\n\u001b[1;32m    237\u001b[0m \u001b[38;5;28mself\u001b[39m\u001b[38;5;241m.\u001b[39mstart_client()\n\u001b[0;32m--> 238\u001b[0m \u001b[38;5;28mself\u001b[39m\u001b[38;5;241m.\u001b[39mstart_session(capabilities)\n\u001b[1;32m    240\u001b[0m \u001b[38;5;28mself\u001b[39m\u001b[38;5;241m.\u001b[39m_websocket_connection \u001b[38;5;241m=\u001b[39m \u001b[38;5;28;01mNone\u001b[39;00m\n\u001b[1;32m    241\u001b[0m \u001b[38;5;28mself\u001b[39m\u001b[38;5;241m.\u001b[39m_script \u001b[38;5;241m=\u001b[39m \u001b[38;5;28;01mNone\u001b[39;00m\n",
      "File \u001b[0;32m~/anaconda3/lib/python3.12/site-packages/selenium/webdriver/remote/webdriver.py:325\u001b[0m, in \u001b[0;36mWebDriver.start_session\u001b[0;34m(self, capabilities)\u001b[0m\n\u001b[1;32m    318\u001b[0m \u001b[38;5;250m\u001b[39m\u001b[38;5;124;03m\"\"\"Creates a new session with the desired capabilities.\u001b[39;00m\n\u001b[1;32m    319\u001b[0m \n\u001b[1;32m    320\u001b[0m \u001b[38;5;124;03m:Args:\u001b[39;00m\n\u001b[1;32m    321\u001b[0m \u001b[38;5;124;03m - capabilities - a capabilities dict to start the session with.\u001b[39;00m\n\u001b[1;32m    322\u001b[0m \u001b[38;5;124;03m\"\"\"\u001b[39;00m\n\u001b[1;32m    324\u001b[0m caps \u001b[38;5;241m=\u001b[39m _create_caps(capabilities)\n\u001b[0;32m--> 325\u001b[0m response \u001b[38;5;241m=\u001b[39m \u001b[38;5;28mself\u001b[39m\u001b[38;5;241m.\u001b[39mexecute(Command\u001b[38;5;241m.\u001b[39mNEW_SESSION, caps)[\u001b[38;5;124m\"\u001b[39m\u001b[38;5;124mvalue\u001b[39m\u001b[38;5;124m\"\u001b[39m]\n\u001b[1;32m    326\u001b[0m \u001b[38;5;28mself\u001b[39m\u001b[38;5;241m.\u001b[39msession_id \u001b[38;5;241m=\u001b[39m response\u001b[38;5;241m.\u001b[39mget(\u001b[38;5;124m\"\u001b[39m\u001b[38;5;124msessionId\u001b[39m\u001b[38;5;124m\"\u001b[39m)\n\u001b[1;32m    327\u001b[0m \u001b[38;5;28mself\u001b[39m\u001b[38;5;241m.\u001b[39mcaps \u001b[38;5;241m=\u001b[39m response\u001b[38;5;241m.\u001b[39mget(\u001b[38;5;124m\"\u001b[39m\u001b[38;5;124mcapabilities\u001b[39m\u001b[38;5;124m\"\u001b[39m)\n",
      "File \u001b[0;32m~/anaconda3/lib/python3.12/site-packages/selenium/webdriver/remote/webdriver.py:380\u001b[0m, in \u001b[0;36mWebDriver.execute\u001b[0;34m(self, driver_command, params)\u001b[0m\n\u001b[1;32m    378\u001b[0m response \u001b[38;5;241m=\u001b[39m \u001b[38;5;28mself\u001b[39m\u001b[38;5;241m.\u001b[39mcommand_executor\u001b[38;5;241m.\u001b[39mexecute(driver_command, params)\n\u001b[1;32m    379\u001b[0m \u001b[38;5;28;01mif\u001b[39;00m response:\n\u001b[0;32m--> 380\u001b[0m     \u001b[38;5;28mself\u001b[39m\u001b[38;5;241m.\u001b[39merror_handler\u001b[38;5;241m.\u001b[39mcheck_response(response)\n\u001b[1;32m    381\u001b[0m     response[\u001b[38;5;124m\"\u001b[39m\u001b[38;5;124mvalue\u001b[39m\u001b[38;5;124m\"\u001b[39m] \u001b[38;5;241m=\u001b[39m \u001b[38;5;28mself\u001b[39m\u001b[38;5;241m.\u001b[39m_unwrap_value(response\u001b[38;5;241m.\u001b[39mget(\u001b[38;5;124m\"\u001b[39m\u001b[38;5;124mvalue\u001b[39m\u001b[38;5;124m\"\u001b[39m, \u001b[38;5;28;01mNone\u001b[39;00m))\n\u001b[1;32m    382\u001b[0m     \u001b[38;5;28;01mreturn\u001b[39;00m response\n",
      "File \u001b[0;32m~/anaconda3/lib/python3.12/site-packages/selenium/webdriver/remote/errorhandler.py:229\u001b[0m, in \u001b[0;36mErrorHandler.check_response\u001b[0;34m(self, response)\u001b[0m\n\u001b[1;32m    227\u001b[0m         alert_text \u001b[38;5;241m=\u001b[39m value[\u001b[38;5;124m\"\u001b[39m\u001b[38;5;124malert\u001b[39m\u001b[38;5;124m\"\u001b[39m]\u001b[38;5;241m.\u001b[39mget(\u001b[38;5;124m\"\u001b[39m\u001b[38;5;124mtext\u001b[39m\u001b[38;5;124m\"\u001b[39m)\n\u001b[1;32m    228\u001b[0m     \u001b[38;5;28;01mraise\u001b[39;00m exception_class(message, screen, stacktrace, alert_text)  \u001b[38;5;66;03m# type: ignore[call-arg]  # mypy is not smart enough here\u001b[39;00m\n\u001b[0;32m--> 229\u001b[0m \u001b[38;5;28;01mraise\u001b[39;00m exception_class(message, screen, stacktrace)\n",
      "\u001b[0;31mWebDriverException\u001b[0m: Message: Process unexpectedly closed with status 1\n"
     ]
    }
   ],
   "source": [
    "\n",
    "# Path ke GeckoDriver, sesuaikan dengan path di komputermu\n",
    "gecko_path = \"/usr/local/bin/geckodriver\"  # Sesuaikan path ke GeckoDriver\n",
    "service = Service(executable_path=gecko_path)\n",
    "\n",
    "# Path ke Firefox executable\n",
    "firefox_path = \"/usr/bin/firefox\"  # Lokasi Firefox.exe\n",
    "\n",
    "#Path firefox profile\n",
    "firefox_path_profile = \"/home/atrkeffect/snap/firefox/common/.mozilla/firefox/8vz7lqfe.crawl\"\n",
    "\n",
    "# Konfigurasi Firefox\n",
    "options = Options()\n",
    "options.binary_location = firefox_path  # Menetapkan lokasi binary Firefox\n",
    "options.headless = False  # Set ke True jika Anda tidak ingin membuka jendela browser\n",
    "options.set_preference(\"profile\", firefox_path_profile) #Menentukan profil Firefox\n",
    "def create_driver():\n",
    "    return webdriver.Firefox(service=service, options=options)\n",
    "\n",
    "def get_tweet(element):\n",
    "    try:\n",
    "        user = element.find_element(By.XPATH, \".//*[contains(text(), '@')]\").text\n",
    "        text = element.find_element(By.XPATH, \".//div[@lang]\").text\n",
    "        date = element.find_element(By.XPATH, \".//time\").get_attribute(\"datetime\")\n",
    "\n",
    "        try:\n",
    "            reply_to_user = element.find_element(By.XPATH, \".//div[@dir='ltr']//a[contains(@href, '/')]\").text\n",
    "        except:\n",
    "            reply_to_user = None\n",
    "\n",
    "        try:\n",
    "            tweet_link = element.find_element(By.XPATH, \".//a[@href and contains(@href, '/status/')]\").get_attribute(\"href\")\n",
    "        except:\n",
    "            tweet_link = None\n",
    "\n",
    "        try:\n",
    "            media_links = [media.get_attribute(\"src\") for media in element.find_elements(By.XPATH, \".//img[contains(@src, 'media')]\")]\n",
    "        except:\n",
    "            media_links = []\n",
    "\n",
    "        tweet_data = [user, text, date, tweet_link, media_links, reply_to_user]\n",
    "        return tweet_data\n",
    "    except Exception as e:\n",
    "        print(f\"Error: {e}\")\n",
    "        return None\n",
    "\n",
    "def click_retry_button(driver):\n",
    "    try:\n",
    "        retry_button = driver.find_element(By.XPATH, \"//div[text()='Retry']/parent::div\")\n",
    "        retry_button.click()\n",
    "        print(\"Clicked the retry button\")\n",
    "        WebDriverWait(driver, 15).until(EC.invisibility_of_element_located((By.XPATH, \"//div[text()='Retry']\")))\n",
    "    except:\n",
    "        pass\n",
    "\n",
    "def scrape_tweets(driver):\n",
    "    user_data = []\n",
    "    text_data = []\n",
    "    date_data = []\n",
    "    tweet_link_data = []\n",
    "    media_link_data = []\n",
    "    reply_to_data = []\n",
    "    tweet_ids = set()\n",
    "\n",
    "    scrolling = True\n",
    "    while scrolling and len(user_data) < 10000:\n",
    "        try:\n",
    "            print(\"Searching for tweets...\")\n",
    "            tweets = WebDriverWait(driver, 15).until(EC.presence_of_all_elements_located((By.XPATH, \"//article\")))\n",
    "            print(f\"Number of tweets found: {len(tweets)}\")\n",
    "            for tweet in tweets:\n",
    "                tweet_list = get_tweet(tweet)\n",
    "                if tweet_list:\n",
    "                    tweet_id = ''.join(tweet_list[:2])\n",
    "                    if tweet_id not in tweet_ids:\n",
    "                        tweet_ids.add(tweet_id)\n",
    "                        user_data.append(tweet_list[0])\n",
    "                        text_data.append(\" \".join(tweet_list[1].split()))\n",
    "                        date_data.append(tweet_list[2])\n",
    "                        tweet_link_data.append(tweet_list[3])\n",
    "                        media_link_data.append(tweet_list[4])\n",
    "                        reply_to_data.append(tweet_list[5])\n",
    "\n",
    "            last_height = driver.execute_script(\"return document.body.scrollHeight\")\n",
    "            driver.execute_script(\"window.scrollTo(0, document.body.scrollHeight);\")\n",
    "            WebDriverWait(driver, 30).until(lambda driver: driver.execute_script(\"return document.body.scrollHeight\") > last_height)\n",
    "            new_height = driver.execute_script(\"return document.body.scrollHeight\")\n",
    "\n",
    "            click_retry_button(driver)\n",
    "\n",
    "            if new_height == last_height:\n",
    "                scrolling = False\n",
    "            else:\n",
    "                last_height = new_height\n",
    "                time.sleep(5)  # Tambahkan penundaan yang lebih lama\n",
    "\n",
    "        except Exception as e:\n",
    "            print(f\"Error during scrolling or tweet retrieval: {e}\")\n",
    "            break\n",
    "\n",
    "    return user_data, text_data, date_data, tweet_link_data, media_link_data, reply_to_data\n",
    "\n",
    "driver = create_driver()\n",
    "web = 'https://x.com/search?q=foodfess2%20tomoro%202024%20lang%3Aid%20until%3A2024-07-01%20since%3A2023-07-01&src=typed_query&f=live' # Masukan link yang akan di cari\n",
    "driver.get(web)\n",
    "time.sleep(15)\n",
    "driver.save_screenshot('screenshot_before_search.png')\n",
    "\n",
    "user_data, text_data, date_data, tweet_link_data, media_link_data, reply_to_data = scrape_tweets(driver)\n",
    "\n",
    "driver.save_screenshot('screenshot_after_search.png')\n",
    "driver.quit()\n",
    "\n",
    "df = pd.DataFrame({\n",
    "    'User': user_data,\n",
    "    'Text': text_data,\n",
    "    'Date': date_data,\n",
    "    'Tweet Link': tweet_link_data,\n",
    "    'Media Links': media_link_data,\n",
    "    'Reply To': reply_to_data\n",
    "})\n",
    "\n",
    "print(df)"
   ]
  },
  {
   "cell_type": "code",
   "execution_count": null,
   "metadata": {
    "id": "Qk4Y-0OO2CuI"
   },
   "outputs": [],
   "source": [
    "import re\n",
    "\n",
    "def extract_mentions(text):\n",
    "    mentions = re.findall(r'@(\\w+)', text)\n",
    "    return mentions\n",
    "\n",
    "df['Target'] = df['User']\n",
    "df['Mentions'] = df['Text'].apply(extract_mentions)\n",
    "\n",
    "df"
   ]
  },
  {
   "cell_type": "code",
   "execution_count": null,
   "metadata": {
    "id": "e3HYHqjV2MyP"
   },
   "outputs": [],
   "source": [
    "# Simpan kedalam csv\n",
    "df.to_csv('hasil-crawling.csv', index=False, sep=\";\")"
   ]
  }
 ],
 "metadata": {
  "colab": {
   "provenance": []
  },
  "kernelspec": {
   "display_name": "base",
   "language": "python",
   "name": "python3"
  },
  "language_info": {
   "codemirror_mode": {
    "name": "ipython",
    "version": 3
   },
   "file_extension": ".py",
   "mimetype": "text/x-python",
   "name": "python",
   "nbconvert_exporter": "python",
   "pygments_lexer": "ipython3",
   "version": "3.12.4"
  }
 },
 "nbformat": 4,
 "nbformat_minor": 0
}
